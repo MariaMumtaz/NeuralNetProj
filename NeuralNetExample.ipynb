{
 "cells": [
  {
   "cell_type": "markdown",
   "metadata": {},
   "source": [
    "# Fully Connected Neural Network with Cat-vs-NoCat and mnist data\n",
    "\n",
    "This is a Fully Connected 5 layer Neural Network. I have used it to train on MNIST Hand written digits data to recognize the number, and on data with different images to recognize if the image has cat in it."
   ]
  },
  {
   "cell_type": "markdown",
   "metadata": {},
   "source": [
    "## Importing necessary libraries\n",
    "\n",
    "First I imported the liabraries used to define system path and to configure intitialization.\n",
    "- config liabrary sets up seed, number of classes, epochs, learning rate, filename\n",
    "- data_loader is a liabrary with following functions \n",
    "  - load_cvnc_data (to load cat vs. no cat data), returns train_set_x, train_set_y, test_set_x, test_set_y, classes (1/0)\n",
    "  - load_mnist_data (to load mnist data), returns train_set_x, train_set_y, test_set_x, test_set_y, classes (one, two, three...)\n",
    "  - normalize_image data (which normalizes the input images by dividing by 255)\n",
    "  - one_hot_data (to flatten the output vector y)\n",
    "\n"
   ]
  },
  {
   "cell_type": "code",
   "execution_count": 1,
   "metadata": {},
   "outputs": [],
   "source": [
    "import sys\n",
    "sys.path.insert(0, f'src')\n",
    "import config\n",
    "from data_loader import load_cvnc_data, load_minst_data, normalize_image_data, one_hot_data\n",
    "import py7zr"
   ]
  },
  {
   "cell_type": "markdown",
   "metadata": {},
   "source": [
    "## input images\n",
    "\n",
    "Now we need to define a function to show the input image. show_image() takes the x, y set of examples, the class id list and an index as an input and then validates if the index is out of bounds of the input set. imshow() takes the image number as an argument and shows the image. Image number, output y, class ('cat/non-cat'  in case of cvnc data and 'one/two/three..' in case of mnist data). the function may be called for both training and testing data split."
   ]
  },
  {
   "cell_type": "code",
   "execution_count": 2,
   "metadata": {},
   "outputs": [],
   "source": [
    "import matplotlib.pyplot as plt\n",
    "def show_image(set_x, set_y, classes, index = 10):\n",
    "    if index >= len(set_x): index = 0\n",
    "    plt.imshow(set_x[index])\n",
    "    print (\"Image# \" + str(index+1) +\": y = \" + str(set_y[0,index]) + \". It's a '\" + classes[set_y[0,index]].decode(\"utf-8\") +  \"' picture.\")\n"
   ]
  },
  {
   "cell_type": "code",
   "execution_count": 3,
   "metadata": {},
   "outputs": [],
   "source": [
    "train_x, train_y, test_x, test_y, classes = load_cvnc_data()"
   ]
  },
  {
   "cell_type": "code",
   "execution_count": 4,
   "metadata": {},
   "outputs": [
    {
     "name": "stdout",
     "output_type": "stream",
     "text": [
      "Image# 11: y = 0. It's a 'non-cat' picture.\n"
     ]
    },
    {
     "data": {
      "image/png": "[encoded data removed]",
      "text/plain": [
       "<Figure size 432x288 with 1 Axes>"
      ]
     },
     "metadata": {
      "needs_background": "light"
     },
     "output_type": "display_data"
    }
   ],
   "source": [
    "show_image(train_x, train_y, classes)"
   ]
  },
  {
   "cell_type": "markdown",
   "metadata": {},
   "source": [
    "## Normalizing the input data\n",
    "\n",
    "We update the train and test input features by normalizing the images. normalize_image_data() does that. Similarly the output vector is flatten by calling the function one_hot_data(). Both these functions have already been imported from data_loader library."
   ]
  },
  {
   "cell_type": "code",
   "execution_count": 5,
   "metadata": {},
   "outputs": [],
   "source": [
    "train_x = normalize_image_data(train_x)\n",
    "test_x  = normalize_image_data(test_x)\n",
    "train_y = one_hot_data(train_y, classes)\n",
    "test_y  = one_hot_data(test_y, classes)"
   ]
  },
  {
   "cell_type": "markdown",
   "metadata": {},
   "source": [
    "## Defining Fully Connected Layers\n",
    "\n",
    "Next we import the class FullyConnectedLayer from file fc_layer. It takes number of inputs and outputs and the type of activation for one layer. The input, output and activation is sent as an argument to another class called FullyConnectedUnit. We then perform forward and backward propagation with the functions forward() and backward(). update() function updates Weights W and B with respect to learning rate (initially set as 0.01).\n",
    "\n",
    "Now we define five hidden layers, four of which has Relu Activation and the last one has Softmax. Then number of inputs and outputs for the hidden layers are set manually."
   ]
  },
  {
   "cell_type": "code",
   "execution_count": 6,
   "metadata": {},
   "outputs": [],
   "source": [
    "from fc_layer import FullyConnectedLayer\n",
    "fc0 = FullyConnectedLayer(train_x.shape[0],256,'Relu')\n",
    "fc1 = FullyConnectedLayer(256,128,'Relu')\n",
    "fc2 = FullyConnectedLayer(128,64,'Relu')\n",
    "fc3 = FullyConnectedLayer(64,16,'Relu')\n",
    "fcf = FullyConnectedLayer(16,len(classes),'Softmax')"
   ]
  },
  {
   "cell_type": "markdown",
   "metadata": {},
   "source": [
    "## Setting up the Neural Network\n",
    "\n",
    "Now we are all ready to set the Network. class NN_Network is imported from file nn_network. "
   ]
  },
  {
   "cell_type": "code",
   "execution_count": 7,
   "metadata": {},
   "outputs": [],
   "source": [
    "from nn_network import NN_Network\n",
    "model = NN_Network(l_rate=0.02)"
   ]
  },
  {
   "cell_type": "code",
   "execution_count": 8,
   "metadata": {},
   "outputs": [],
   "source": [
    "model.add_layer(fc0)\n",
    "model.add_layer(fc1)\n",
    "model.add_layer(fc2)\n",
    "model.add_layer(fc3)\n",
    "model.add_layer(fcf)"
   ]
  },
  {
   "cell_type": "code",
   "execution_count": 11,
   "metadata": {},
   "outputs": [
    {
     "name": "stdout",
     "output_type": "stream",
     "text": [
      "Training started\n",
      "Learning rate = 0.02\n",
      "Cost at epoch 100 is 0.26714, Iteration time : 49.672\n",
      "Cost at epoch 200 is 0.17686, Iteration time : 49.875\n",
      "Cost at epoch 300 is 0.07012, Iteration time : 50.609\n",
      "Cost at epoch 400 is 0.00955, Iteration time : 50.812\n",
      "Cost at epoch 500 is 0.00382, Iteration time : 51.531\n",
      "Learning rate reduced to 0.01\n",
      "Cost at epoch 600 is 0.00284, Iteration time : 51.953\n",
      "Cost at epoch 700 is 0.00224, Iteration time : 52.000\n",
      "Cost at epoch 800 is 0.00183, Iteration time : 52.688\n",
      "Cost at epoch 900 is 0.00153, Iteration time : 52.000\n",
      "Cost at epoch 1000 is 0.00131, Iteration time : 52.328\n",
      "Learning rate reduced to 0.005\n",
      "Cost at epoch 1100 is 0.00121, Iteration time : 52.453\n",
      "Cost at epoch 1200 is 0.00113, Iteration time : 52.406\n",
      "Cost at epoch 1300 is 0.00106, Iteration time : 52.406\n",
      "Cost at epoch 1400 is 0.00100, Iteration time : 52.344\n",
      "Cost at epoch 1500 is 0.00094, Iteration time : 51.906\n",
      "Learning rate reduced to 0.0025\n",
      "Cost at epoch 1600 is 0.00091, Iteration time : 51.766\n",
      "Cost at epoch 1700 is 0.00089, Iteration time : 52.156\n",
      "Cost at epoch 1800 is 0.00086, Iteration time : 52.078\n",
      "Cost at epoch 1900 is 0.00084, Iteration time : 51.594\n",
      "Cost at epoch 2000 is 0.00082, Iteration time : 51.609\n",
      "Learning rate reduced to 0.00125\n",
      "Cost at epoch 2100 is 0.00081, Iteration time : 51.688\n",
      "Cost at epoch 2200 is 0.00080, Iteration time : 51.734\n",
      "Cost at epoch 2300 is 0.00079, Iteration time : 52.469\n",
      "Cost at epoch 2400 is 0.00078, Iteration time : 51.953\n",
      "Cost at epoch 2500 is 0.00077, Iteration time : 51.172\n",
      "Learning rate reduced to 0.000625\n",
      "Cost at epoch 2600 is 0.00076, Iteration time : 51.469\n",
      "Cost at epoch 2700 is 0.00076, Iteration time : 51.812\n",
      "Cost at epoch 2800 is 0.00075, Iteration time : 51.516\n",
      "Cost at epoch 2900 is 0.00075, Iteration time : 51.969\n",
      "Cost at epoch 3000 is 0.00074, Iteration time : 51.500\n",
      "Learning rate reduced to 0.0003125\n",
      "Cost at epoch 3100 is 0.00074, Iteration time : 51.594\n",
      "Cost at epoch 3200 is 0.00074, Iteration time : 52.719\n",
      "Cost at epoch 3300 is 0.00074, Iteration time : 52.594\n",
      "Cost at epoch 3400 is 0.00073, Iteration time : 52.469\n",
      "Cost at epoch 3500 is 0.00073, Iteration time : 51.922\n",
      "Learning rate reduced to 0.00015625\n",
      "No significant improvement in loss, stopping early at epoch 3508\n",
      "Cost at the end of training is 0.00073, Time elspsed : 1816.938\n"
     ]
    }
   ],
   "source": [
    "costs = model.train(train_x, train_y, 5000, dynamic_learning=True)"
   ]
  },
  {
   "cell_type": "code",
   "execution_count": 12,
   "metadata": {},
   "outputs": [
    {
     "data": {
      "image/png": "[encoded data removed]",
      "text/plain": [
       "<Figure size 432x288 with 1 Axes>"
      ]
     },
     "metadata": {
      "needs_background": "light"
     },
     "output_type": "display_data"
    }
   ],
   "source": [
    "import numpy as np\n",
    "plt.plot(np.squeeze(costs))\n",
    "plt.ylabel('cost')\n",
    "plt.xlabel('Epochs')\n",
    "plt.title(\"Learning rate \")\n",
    "plt.show()"
   ]
  },
  {
   "cell_type": "code",
   "execution_count": 15,
   "metadata": {},
   "outputs": [],
   "source": [
    "import pickle\n",
    "import os\n",
    "\n",
    "with open('model/cvnc_fc5.pickle', 'wb') as handle:\n",
    "    pickle.dump(model, handle, protocol=pickle.HIGHEST_PROTOCOL)\n",
    "    \n",
    "with py7zr.SevenZipFile('model/cvnc_fc5.pickle.7z', \"w\") as zip:\n",
    "    zip.write('model/cvnc_fc5.pickle')\n",
    "    os.remove('model/cvnc_fc5.pickle')"
   ]
  },
  {
   "cell_type": "code",
   "execution_count": 16,
   "metadata": {},
   "outputs": [],
   "source": [
    "with py7zr.SevenZipFile('model/cvnc_fc5.pickle.7z', \"r\") as zip:\n",
    "    zip.extractall()\n",
    "os.remove('model/cvnc_fc5.pickle.7z')"
   ]
  },
  {
   "cell_type": "code",
   "execution_count": 17,
   "metadata": {},
   "outputs": [],
   "source": [
    "with open('model/cvnc_fc5.pickle', 'rb') as handle:\n",
    "    model = pickle.load(handle)"
   ]
  },
  {
   "cell_type": "code",
   "execution_count": 19,
   "metadata": {},
   "outputs": [
    {
     "name": "stdout",
     "output_type": "stream",
     "text": [
      "Accuracy: 0.760\n",
      "[[1 1 1 1 1 0 0 1 1 1 1 1 1 1 0 1 0 1 0 0 1 0 0 1 1 1 0 0 0 1 1 1 1 1 1 0\n",
      "  0 1 0 0 0 0 1 0 1 0 0 1 1 0]]\n",
      "[[1 1 1 1 1 0 1 1 1 1 1 1 1 0 0 1 0 1 1 1 1 0 0 1 1 1 1 0 1 0 1 1 1 1 0 0\n",
      "  0 1 0 0 1 1 1 0 0 0 1 1 1 0]]\n"
     ]
    }
   ],
   "source": [
    "probs, act = model.evaluate(test_x, test_y)\n",
    "print(probs)\n",
    "print(act)"
   ]
  },
  {
   "cell_type": "code",
   "execution_count": 20,
   "metadata": {},
   "outputs": [],
   "source": [
    "train_x, train_y, test_x, test_y, classes = load_minst_data()"
   ]
  },
  {
   "cell_type": "code",
   "execution_count": 21,
   "metadata": {},
   "outputs": [
    {
     "name": "stdout",
     "output_type": "stream",
     "text": [
      "Image# 46: y = 9. It's a 'Nine' picture.\n"
     ]
    },
    {
     "data": {
      "image/png": "[encoded data removed]",
      "text/plain": [
       "<Figure size 432x288 with 1 Axes>"
      ]
     },
     "metadata": {
      "needs_background": "light"
     },
     "output_type": "display_data"
    }
   ],
   "source": [
    "show_image(train_x, train_y, classes, index=45)"
   ]
  },
  {
   "cell_type": "code",
   "execution_count": 22,
   "metadata": {},
   "outputs": [],
   "source": [
    "train_x = normalize_image_data(train_x)\n",
    "test_x  = normalize_image_data(test_x)\n",
    "train_y = one_hot_data(train_y, classes)\n",
    "test_y  = one_hot_data(test_y, classes)"
   ]
  },
  {
   "cell_type": "code",
   "execution_count": 23,
   "metadata": {},
   "outputs": [],
   "source": [
    "from fc_layer import FullyConnectedLayer\n",
    "fc0 = FullyConnectedLayer(int(train_x.shape[0]   ),int(train_x.shape[0]/2 ),'Relu')\n",
    "fc1 = FullyConnectedLayer(int(train_x.shape[0]/2 ),int(train_x.shape[0]/4 ),'Relu')\n",
    "fc2 = FullyConnectedLayer(int(train_x.shape[0]/4 ),int(train_x.shape[0]/8 ),'Relu')\n",
    "fc3 = FullyConnectedLayer(int(train_x.shape[0]/8 ),int(train_x.shape[0]/16),'Relu')\n",
    "fcf = FullyConnectedLayer(int(train_x.shape[0]/16),len(classes),'Softmax')"
   ]
  },
  {
   "cell_type": "code",
   "execution_count": 24,
   "metadata": {},
   "outputs": [],
   "source": [
    "from nn_network import NN_Network\n",
    "model = NN_Network(l_rate=0.01)"
   ]
  },
  {
   "cell_type": "code",
   "execution_count": 25,
   "metadata": {},
   "outputs": [],
   "source": [
    "model.add_layer(fc0)\n",
    "model.add_layer(fc1)\n",
    "model.add_layer(fc2)\n",
    "model.add_layer(fc3)\n",
    "model.add_layer(fcf)"
   ]
  },
  {
   "cell_type": "code",
   "execution_count": 26,
   "metadata": {},
   "outputs": [
    {
     "name": "stdout",
     "output_type": "stream",
     "text": [
      "Training started\n",
      "Learning rate = 0.01\n",
      "Cost at epoch 100 is 0.22072, Iteration time : 1936.500\n",
      "Cost at epoch 200 is 0.19761, Iteration time : 2047.031\n",
      "Cost at epoch 300 is 0.14876, Iteration time : 1979.922\n",
      "Cost at epoch 400 is 0.10042, Iteration time : 1938.484\n",
      "Cost at epoch 500 is 0.07349, Iteration time : 1916.562\n",
      "Learning rate reduced to 0.005\n",
      "Cost at epoch 600 is 0.06523, Iteration time : 1877.266\n",
      "Cost at epoch 700 is 0.05919, Iteration time : 1872.078\n",
      "Cost at epoch 800 is 0.05460, Iteration time : 1863.031\n",
      "Cost at epoch 900 is 0.05102, Iteration time : 1856.594\n",
      "Cost at epoch 1000 is 0.04816, Iteration time : 1867.828\n",
      "Learning rate reduced to 0.0025\n",
      "Cost at epoch 1100 is 0.04692, Iteration time : 1868.781\n",
      "Cost at epoch 1200 is 0.04580, Iteration time : 1855.078\n",
      "Cost at epoch 1300 is 0.04477, Iteration time : 1876.844\n",
      "Cost at epoch 1400 is 0.04383, Iteration time : 1878.875\n",
      "Cost at epoch 1500 is 0.04296, Iteration time : 1880.359\n",
      "Learning rate reduced to 0.00125\n",
      "Cost at epoch 1600 is 0.04255, Iteration time : 1880.906\n",
      "Cost at epoch 1700 is 0.04215, Iteration time : 1878.125\n",
      "Cost at epoch 1800 is 0.04177, Iteration time : 1854.844\n",
      "Cost at epoch 1900 is 0.04140, Iteration time : 1873.641\n",
      "Cost at epoch 2000 is 0.04104, Iteration time : 1889.125\n",
      "Learning rate reduced to 0.000625\n",
      "Cost at epoch 2100 is 0.04087, Iteration time : 1895.297\n",
      "Cost at epoch 2200 is 0.04070, Iteration time : 1901.391\n",
      "Cost at epoch 2300 is 0.04053, Iteration time : 1908.062\n",
      "Cost at epoch 2400 is 0.04036, Iteration time : 1912.828\n",
      "Cost at epoch 2500 is 0.04020, Iteration time : 1905.234\n",
      "Learning rate reduced to 0.0003125\n",
      "Cost at epoch 2600 is 0.04012, Iteration time : 1902.156\n",
      "Cost at epoch 2700 is 0.04004, Iteration time : 1858.031\n",
      "Cost at epoch 2800 is 0.03996, Iteration time : 1872.203\n",
      "Cost at epoch 2900 is 0.03988, Iteration time : 1873.688\n",
      "Cost at epoch 3000 is 0.03980, Iteration time : 1878.719\n",
      "Learning rate reduced to 0.00015625\n",
      "Cost at epoch 3100 is 0.03976, Iteration time : 1874.125\n",
      "Cost at epoch 3200 is 0.03972, Iteration time : 1871.000\n",
      "Cost at epoch 3300 is 0.03969, Iteration time : 1853.328\n",
      "Cost at epoch 3400 is 0.03965, Iteration time : 1861.578\n",
      "Cost at epoch 3500 is 0.03961, Iteration time : 1868.531\n",
      "Learning rate reduced to 7.8125e-05\n",
      "Cost at epoch 3600 is 0.03959, Iteration time : 1871.625\n",
      "Cost at epoch 3700 is 0.03957, Iteration time : 1872.453\n",
      "Cost at epoch 3800 is 0.03955, Iteration time : 1870.609\n",
      "Cost at epoch 3900 is 0.03953, Iteration time : 1873.625\n",
      "Cost at epoch 4000 is 0.03951, Iteration time : 1872.734\n",
      "Learning rate reduced to 3.90625e-05\n",
      "Cost at epoch 4100 is 0.03950, Iteration time : 1869.438\n",
      "Cost at epoch 4200 is 0.03949, Iteration time : 1867.609\n",
      "Cost at epoch 4300 is 0.03949, Iteration time : 1874.047\n",
      "Cost at epoch 4400 is 0.03948, Iteration time : 1871.719\n",
      "Cost at epoch 4500 is 0.03947, Iteration time : 1891.922\n",
      "Learning rate reduced to 1.953125e-05\n",
      "Cost at epoch 4600 is 0.03946, Iteration time : 1862.922\n",
      "Cost at epoch 4700 is 0.03946, Iteration time : 1916.250\n",
      "Cost at epoch 4800 is 0.03945, Iteration time : 1962.203\n",
      "Cost at epoch 4900 is 0.03945, Iteration time : 2032.641\n",
      "Cost at the end of training is 0.03944, Time elspsed : 94628.688\n"
     ]
    }
   ],
   "source": [
    "costs = model.train(train_x, train_y, 5000, dynamic_learning=True)"
   ]
  },
  {
   "cell_type": "code",
   "execution_count": null,
   "metadata": {},
   "outputs": [],
   "source": [
    "import numpy as np\n",
    "plt.plot(np.squeeze(costs))\n",
    "plt.ylabel('cost')\n",
    "plt.xlabel('Epochs')\n",
    "plt.title(\"Learning rate \")\n",
    "plt.show()"
   ]
  },
  {
   "cell_type": "code",
   "execution_count": null,
   "metadata": {},
   "outputs": [],
   "source": [
    "probs, act = model.evaluate(test_x, test_y)\n",
    "print(probs)\n",
    "print(act)"
   ]
  },
  {
   "cell_type": "code",
   "execution_count": null,
   "metadata": {},
   "outputs": [],
   "source": [
    "import pickle\n",
    "\n",
    "with open('model/minst_fc5.pickle', 'wb') as handle:\n",
    "    pickle.dump(model, handle, protocol=pickle.HIGHEST_PROTOCOL)\n",
    "    \n",
    "with py7zr.SevenZipFile('model/minst_fc5.pickle.7z', \"w\",) as zip:\n",
    "    zip.write('model/minst_fc5.pickle')    \n",
    "    os.remove('model/minst_fc5.pickle')"
   ]
  },
  {
   "cell_type": "code",
   "execution_count": null,
   "metadata": {},
   "outputs": [],
   "source": [
    "with py7zr.SevenZipFile('model/minst_fc5.pickle.7z', \"r\") as zip:\n",
    "    zip.extractall()\n",
    "os.remove('model/minst_fc5.pickle.7z')"
   ]
  },
  {
   "cell_type": "code",
   "execution_count": null,
   "metadata": {},
   "outputs": [],
   "source": [
    "with open('model/minst_fc5.pickle', 'rb') as handle:\n",
    "    model = pickle.load(handle)"
   ]
  },
  {
   "cell_type": "code",
   "execution_count": null,
   "metadata": {},
   "outputs": [],
   "source": []
  }
 ],
 "metadata": {
  "kernelspec": {
   "display_name": "Python 3",
   "language": "python",
   "name": "python3"
  },
  "language_info": {
   "codemirror_mode": {
    "name": "ipython",
    "version": 3
   },
   "file_extension": ".py",
   "mimetype": "text/x-python",
   "name": "python",
   "nbconvert_exporter": "python",
   "pygments_lexer": "ipython3",
   "version": "3.8.8"
  }
 },
 "nbformat": 4,
 "nbformat_minor": 4
}
